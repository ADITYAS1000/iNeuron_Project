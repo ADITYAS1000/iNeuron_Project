{
  "nbformat": 4,
  "nbformat_minor": 0,
  "metadata": {
    "colab": {
      "name": "Making Dataset for Business (short-term) loan Banking Project",
      "provenance": [],
      "collapsed_sections": [],
      "toc_visible": true,
      "authorship_tag": "ABX9TyPo5DIVS1B3uOvjM7r5tdrS",
      "include_colab_link": true
    },
    "kernelspec": {
      "name": "python3",
      "display_name": "Python 3"
    }
  },
  "cells": [
    {
      "cell_type": "markdown",
      "metadata": {
        "id": "view-in-github",
        "colab_type": "text"
      },
      "source": [
        "<a href=\"https://colab.research.google.com/github/sanu1230/iNeuron_Project/blob/main/Making_Dataset_for_Business_(short_term)_loan_Banking_Project.ipynb\" target=\"_parent\"><img src=\"https://colab.research.google.com/assets/colab-badge.svg\" alt=\"Open In Colab\"/></a>"
      ]
    },
    {
      "cell_type": "markdown",
      "metadata": {
        "id": "bHcMMQWZLbkb"
      },
      "source": [
        "# Creating Dummy Dataset of bank for Personal Loan product"
      ]
    },
    {
      "cell_type": "markdown",
      "metadata": {
        "id": "aSnikLxyiIpv"
      },
      "source": [
        "## Attributes:\n",
        "\n",
        "- Date_of_dis => Date of loan disbursement\n",
        "- Customer_id\n",
        "- First_name\n",
        "- Last_name\n",
        "- Gender => (Male, Female)\n",
        "- Email\n",
        "- Phone\n",
        "- Age\n",
        "- Occupation => Customers occupation\n",
        "- Income\n",
        "- Marital_status => (Married, Single, Divorced, Widowed, Seperated)\n",
        "- Principle_Amount\n",
        "- Interest_rate\n",
        "- Processing_fee\n",
        "- Tenure => (12, 24, 36, 48, 60)months\n",
        "- EMI\n",
        "- First_duedate\n",
        "- Tenure_rem => Tenure Remaining\n",
        "- Principle_amt_rem => Principle amount remaining\n",
        "- Last_duedate\n",
        "- Next_duedate\n",
        "- Loan_status => (Active, Collection, Sold, Paidoff)\n",
        "- Loan_purpose => ('Bill Payments', 'Emergency Expenses', 'Home Repairs', 'Refinance', 'Medical Expense', 'Personal Expenses')"
      ]
    },
    {
      "cell_type": "code",
      "metadata": {
        "id": "KVkUf_grg4wS"
      },
      "source": [
        "import pandas as pd\n",
        "import numpy as np"
      ],
      "execution_count": null,
      "outputs": []
    },
    {
      "cell_type": "code",
      "metadata": {
        "id": "GQ4ANH-XhERZ",
        "outputId": "503bb948-72d4-498b-83c9-0ae9ccdd9e29",
        "colab": {
          "base_uri": "https://localhost:8080/",
          "height": 195
        }
      },
      "source": [
        "# Creating date in 1lac rows\n",
        "\n",
        "date_range = pd.date_range(start='2018-01-01', end= '2019-12-31', freq='D')\n",
        "date = list(pd.Series(date_range))\n",
        "Date_of_dis = np.random.choice(date, 100000)\n",
        "df = pd.DataFrame(Date_of_dis, columns=['Date_of_dis'])\n",
        "df['Date_of_dis'] = sorted(df['Date_of_dis'])\n",
        "df.head()"
      ],
      "execution_count": null,
      "outputs": [
        {
          "output_type": "execute_result",
          "data": {
            "text/html": [
              "<div>\n",
              "<style scoped>\n",
              "    .dataframe tbody tr th:only-of-type {\n",
              "        vertical-align: middle;\n",
              "    }\n",
              "\n",
              "    .dataframe tbody tr th {\n",
              "        vertical-align: top;\n",
              "    }\n",
              "\n",
              "    .dataframe thead th {\n",
              "        text-align: right;\n",
              "    }\n",
              "</style>\n",
              "<table border=\"1\" class=\"dataframe\">\n",
              "  <thead>\n",
              "    <tr style=\"text-align: right;\">\n",
              "      <th></th>\n",
              "      <th>Date_of_dis</th>\n",
              "    </tr>\n",
              "  </thead>\n",
              "  <tbody>\n",
              "    <tr>\n",
              "      <th>0</th>\n",
              "      <td>2018-01-01</td>\n",
              "    </tr>\n",
              "    <tr>\n",
              "      <th>1</th>\n",
              "      <td>2018-01-01</td>\n",
              "    </tr>\n",
              "    <tr>\n",
              "      <th>2</th>\n",
              "      <td>2018-01-01</td>\n",
              "    </tr>\n",
              "    <tr>\n",
              "      <th>3</th>\n",
              "      <td>2018-01-01</td>\n",
              "    </tr>\n",
              "    <tr>\n",
              "      <th>4</th>\n",
              "      <td>2018-01-01</td>\n",
              "    </tr>\n",
              "  </tbody>\n",
              "</table>\n",
              "</div>"
            ],
            "text/plain": [
              "  Date_of_dis\n",
              "0  2018-01-01\n",
              "1  2018-01-01\n",
              "2  2018-01-01\n",
              "3  2018-01-01\n",
              "4  2018-01-01"
            ]
          },
          "metadata": {
            "tags": []
          },
          "execution_count": 37
        }
      ]
    },
    {
      "cell_type": "code",
      "metadata": {
        "id": "AHq-eS9aAryP",
        "outputId": "fc528f20-2a79-445b-e913-1d3c64e800b1",
        "colab": {
          "base_uri": "https://localhost:8080/",
          "height": 34
        }
      },
      "source": [
        "df.shape"
      ],
      "execution_count": null,
      "outputs": [
        {
          "output_type": "execute_result",
          "data": {
            "text/plain": [
              "(100000, 1)"
            ]
          },
          "metadata": {
            "tags": []
          },
          "execution_count": 38
        }
      ]
    },
    {
      "cell_type": "code",
      "metadata": {
        "id": "1D9TOJiWAu2r",
        "outputId": "b6295d40-c100-4ab0-be6e-6407e2030f94",
        "colab": {
          "base_uri": "https://localhost:8080/",
          "height": 195
        }
      },
      "source": [
        "# Creating Customer Id data\n",
        "import random\n",
        "\n",
        "df['Customer_id'] = sorted(random.sample(range(1000000, 9999999), len(df['Date_of_dis']))) \n",
        "df.head()"
      ],
      "execution_count": null,
      "outputs": [
        {
          "output_type": "execute_result",
          "data": {
            "text/html": [
              "<div>\n",
              "<style scoped>\n",
              "    .dataframe tbody tr th:only-of-type {\n",
              "        vertical-align: middle;\n",
              "    }\n",
              "\n",
              "    .dataframe tbody tr th {\n",
              "        vertical-align: top;\n",
              "    }\n",
              "\n",
              "    .dataframe thead th {\n",
              "        text-align: right;\n",
              "    }\n",
              "</style>\n",
              "<table border=\"1\" class=\"dataframe\">\n",
              "  <thead>\n",
              "    <tr style=\"text-align: right;\">\n",
              "      <th></th>\n",
              "      <th>Date_of_dis</th>\n",
              "      <th>Customer_id</th>\n",
              "    </tr>\n",
              "  </thead>\n",
              "  <tbody>\n",
              "    <tr>\n",
              "      <th>0</th>\n",
              "      <td>2018-01-01</td>\n",
              "      <td>1000017</td>\n",
              "    </tr>\n",
              "    <tr>\n",
              "      <th>1</th>\n",
              "      <td>2018-01-01</td>\n",
              "      <td>1000229</td>\n",
              "    </tr>\n",
              "    <tr>\n",
              "      <th>2</th>\n",
              "      <td>2018-01-01</td>\n",
              "      <td>1000363</td>\n",
              "    </tr>\n",
              "    <tr>\n",
              "      <th>3</th>\n",
              "      <td>2018-01-01</td>\n",
              "      <td>1000403</td>\n",
              "    </tr>\n",
              "    <tr>\n",
              "      <th>4</th>\n",
              "      <td>2018-01-01</td>\n",
              "      <td>1000908</td>\n",
              "    </tr>\n",
              "  </tbody>\n",
              "</table>\n",
              "</div>"
            ],
            "text/plain": [
              "  Date_of_dis  Customer_id\n",
              "0  2018-01-01      1000017\n",
              "1  2018-01-01      1000229\n",
              "2  2018-01-01      1000363\n",
              "3  2018-01-01      1000403\n",
              "4  2018-01-01      1000908"
            ]
          },
          "metadata": {
            "tags": []
          },
          "execution_count": 39
        }
      ]
    },
    {
      "cell_type": "code",
      "metadata": {
        "id": "Eapv0QvuF-Qj"
      },
      "source": [
        "# Creating 1 lac names (50k male & 50k female names)\n",
        "\n",
        "malename = pd.read_csv('/content/Indian-Male-Names.csv')\n",
        "malename = malename.drop(['gender', 'race'], axis=1)\n",
        "\n",
        "femalename = pd.read_csv('/content/Indian-Female-Names.csv')\n",
        "femalename = femalename.drop(['gender', 'race'], axis=1)\n"
      ],
      "execution_count": null,
      "outputs": []
    },
    {
      "cell_type": "code",
      "metadata": {
        "id": "PfkChRVPesO9"
      },
      "source": [
        "# removing all missing data and non alpha data\n",
        "malefirstname=[]\n",
        "\n",
        "for x in malename['name']:\n",
        "  if type(x) == str:\n",
        "    malefirstname.append(x)\n",
        "# -------------------------------------\n",
        "femalefirstname=[]\n",
        "\n",
        "for x in femalename['name']:\n",
        "  if type(x) == str:\n",
        "    femalefirstname.append(x)"
      ],
      "execution_count": null,
      "outputs": []
    },
    {
      "cell_type": "code",
      "metadata": {
        "id": "pvwepk2LfS1l"
      },
      "source": [
        "# taking only the first word of the name\n",
        "male_first_name = []\n",
        "\n",
        "for x in malefirstname:\n",
        "  male_first_name.append(x.split()[0])\n",
        "\n",
        "#------------------------------\n",
        "\n",
        "female_first_name = []\n",
        "\n",
        "for x in femalefirstname:\n",
        "  female_first_name.append(x.split()[0])"
      ],
      "execution_count": null,
      "outputs": []
    },
    {
      "cell_type": "code",
      "metadata": {
        "id": "qM_EIYsFcCAR",
        "outputId": "abcc2d15-bb29-49e1-b3a8-32006813d5fc",
        "colab": {
          "base_uri": "https://localhost:8080/",
          "height": 50
        }
      },
      "source": [
        "print(len(male_first_name))\n",
        "print(len(female_first_name))"
      ],
      "execution_count": null,
      "outputs": [
        {
          "output_type": "stream",
          "text": [
            "14821\n",
            "15351\n"
          ],
          "name": "stdout"
        }
      ]
    },
    {
      "cell_type": "code",
      "metadata": {
        "id": "7AvCpyAjj9cE"
      },
      "source": [
        "lastname = pd.read_csv('/content/Indian-Last-Names.csv')\n",
        "\n",
        "\n",
        "# removing all missing data and non alpha data\n",
        "l_name=[]\n",
        "\n",
        "for x in lastname['Last_names']:\n",
        "  if type(x) == str:\n",
        "    l_name.append(x)\n",
        "\n",
        "# taking only the first word of the name\n",
        "last_name = []\n",
        "\n",
        "for x in l_name:\n",
        "  last_name.append(x.split()[0])\n"
      ],
      "execution_count": null,
      "outputs": []
    },
    {
      "cell_type": "code",
      "metadata": {
        "id": "zrgU-x3np33j",
        "outputId": "cece6961-10fa-4146-9219-cd3aec8619b5",
        "colab": {
          "base_uri": "https://localhost:8080/",
          "height": 34
        }
      },
      "source": [
        "first_name = male_first_name + female_first_name\n",
        "len(first_name)"
      ],
      "execution_count": null,
      "outputs": [
        {
          "output_type": "execute_result",
          "data": {
            "text/plain": [
              "30172"
            ]
          },
          "metadata": {
            "tags": []
          },
          "execution_count": 45
        }
      ]
    },
    {
      "cell_type": "code",
      "metadata": {
        "id": "MU3_azNssd-P",
        "outputId": "2dce2a0a-f0a9-40ec-ce1c-309a4bc8cd3a",
        "colab": {
          "base_uri": "https://localhost:8080/",
          "height": 34
        }
      },
      "source": [
        "len(last_name)"
      ],
      "execution_count": null,
      "outputs": [
        {
          "output_type": "execute_result",
          "data": {
            "text/plain": [
              "564"
            ]
          },
          "metadata": {
            "tags": []
          },
          "execution_count": 46
        }
      ]
    },
    {
      "cell_type": "code",
      "metadata": {
        "id": "p3Ehaa9ysj_8"
      },
      "source": [
        "df['First_name'] = np.random.choice(first_name, 100000)\n",
        "df['Last_name'] = np.random.choice(last_name, 100000)"
      ],
      "execution_count": null,
      "outputs": []
    },
    {
      "cell_type": "code",
      "metadata": {
        "id": "rgDLJ634tL3h",
        "outputId": "7e2a61e3-523f-44fa-e69f-d908120966d4",
        "colab": {
          "base_uri": "https://localhost:8080/",
          "height": 195
        }
      },
      "source": [
        "df['First_name'] = df.First_name.str.capitalize()\n",
        "df['Last_name'] = df.Last_name.str.capitalize()\n",
        "df.head()"
      ],
      "execution_count": null,
      "outputs": [
        {
          "output_type": "execute_result",
          "data": {
            "text/html": [
              "<div>\n",
              "<style scoped>\n",
              "    .dataframe tbody tr th:only-of-type {\n",
              "        vertical-align: middle;\n",
              "    }\n",
              "\n",
              "    .dataframe tbody tr th {\n",
              "        vertical-align: top;\n",
              "    }\n",
              "\n",
              "    .dataframe thead th {\n",
              "        text-align: right;\n",
              "    }\n",
              "</style>\n",
              "<table border=\"1\" class=\"dataframe\">\n",
              "  <thead>\n",
              "    <tr style=\"text-align: right;\">\n",
              "      <th></th>\n",
              "      <th>Date_of_dis</th>\n",
              "      <th>Customer_id</th>\n",
              "      <th>First_name</th>\n",
              "      <th>Last_name</th>\n",
              "    </tr>\n",
              "  </thead>\n",
              "  <tbody>\n",
              "    <tr>\n",
              "      <th>0</th>\n",
              "      <td>2018-01-01</td>\n",
              "      <td>1000017</td>\n",
              "      <td>Pooja</td>\n",
              "      <td>Mukherjee</td>\n",
              "    </tr>\n",
              "    <tr>\n",
              "      <th>1</th>\n",
              "      <td>2018-01-01</td>\n",
              "      <td>1000229</td>\n",
              "      <td>Manoj</td>\n",
              "      <td>Mukhopadhyay</td>\n",
              "    </tr>\n",
              "    <tr>\n",
              "      <th>2</th>\n",
              "      <td>2018-01-01</td>\n",
              "      <td>1000363</td>\n",
              "      <td>Shanti</td>\n",
              "      <td>Lalla</td>\n",
              "    </tr>\n",
              "    <tr>\n",
              "      <th>3</th>\n",
              "      <td>2018-01-01</td>\n",
              "      <td>1000403</td>\n",
              "      <td>Amit</td>\n",
              "      <td>Kaul</td>\n",
              "    </tr>\n",
              "    <tr>\n",
              "      <th>4</th>\n",
              "      <td>2018-01-01</td>\n",
              "      <td>1000908</td>\n",
              "      <td>Smt.</td>\n",
              "      <td>Sehgal</td>\n",
              "    </tr>\n",
              "  </tbody>\n",
              "</table>\n",
              "</div>"
            ],
            "text/plain": [
              "  Date_of_dis  Customer_id First_name     Last_name\n",
              "0  2018-01-01      1000017      Pooja     Mukherjee\n",
              "1  2018-01-01      1000229      Manoj  Mukhopadhyay\n",
              "2  2018-01-01      1000363     Shanti         Lalla\n",
              "3  2018-01-01      1000403       Amit          Kaul\n",
              "4  2018-01-01      1000908       Smt.        Sehgal"
            ]
          },
          "metadata": {
            "tags": []
          },
          "execution_count": 48
        }
      ]
    },
    {
      "cell_type": "code",
      "metadata": {
        "id": "TS_g5De9vOQP"
      },
      "source": [
        "# Creating gender\n",
        "\n",
        "gender = ['Male', 'Female']\n",
        "\n",
        "df['Gender'] = np.random.choice(gender, 100000)"
      ],
      "execution_count": null,
      "outputs": []
    },
    {
      "cell_type": "code",
      "metadata": {
        "id": "fx7hrXioxEIN"
      },
      "source": [
        "# Creating Email\n",
        "\n",
        "df['Email'] = df.First_name.str.lower() + '.' + df.Last_name.str.lower() + '@dummyemail.com'"
      ],
      "execution_count": null,
      "outputs": []
    },
    {
      "cell_type": "code",
      "metadata": {
        "id": "K6DX5xg_xyIK"
      },
      "source": [
        "# Creating Phone #\n",
        "\n",
        "df['Phone'] = random.sample(range(7000000000, 9999999999), 100000)"
      ],
      "execution_count": null,
      "outputs": []
    },
    {
      "cell_type": "code",
      "metadata": {
        "id": "d5JLQ4E6y9v5"
      },
      "source": [
        "# Creating Age\n",
        "\n",
        "df['Age'] = np.random.choice(range(25, 55), 100000)"
      ],
      "execution_count": null,
      "outputs": []
    },
    {
      "cell_type": "code",
      "metadata": {
        "id": "Qx6E_l3nzdcs"
      },
      "source": [
        "# Creating Occupation\n",
        "\n",
        "occupation = ['Engineer', 'Teacher', 'Architect', 'Consultant', 'Scientist', 'Software Developer',\n",
        "              'Lawyer', 'Psychologist', 'Veterinarian', 'Civil Engineer', 'Surveyor', 'Secretary',\n",
        "              'Broker', 'Train_driver', 'Physician', 'Furniture Designer', 'Aviator', 'Estate agent',\n",
        "              'Domestic worker', 'Chef', 'Hotel Manager', 'Financial Analyst', 'Political scientist',\n",
        "              'Author', 'Biomedical Engineer', 'Official', 'Mathematician', 'Loan Officer', 'Machinist',\n",
        "              'Musician', 'Businessperson', 'Civil servant', 'Tailor', 'Politician', 'Designer', 'Industrial Engineer',\n",
        "              'Physiotherapist', 'Drafter', 'Rocket scientist', 'Graphic Designer', 'Health professional',\n",
        "              'Petroleum Engineer', 'Flight attendant', 'Historian', 'Mechanical engineer', 'Flight engineer',\n",
        "              'Professor', 'Army officer', 'Makeup Artist', 'School counselor', 'Computer operator', 'Govt.Service',\n",
        "              'Service', 'Self Employed']\n",
        "\n",
        "df['Occupation'] = np.random.choice(occupation, 100000)"
      ],
      "execution_count": null,
      "outputs": []
    },
    {
      "cell_type": "code",
      "metadata": {
        "id": "50S3gSZn2NeO"
      },
      "source": [
        "# Creating income column\n",
        "df['Income'] = np.random.randint(300000, 3000000, 100000)"
      ],
      "execution_count": null,
      "outputs": []
    },
    {
      "cell_type": "code",
      "metadata": {
        "id": "Zi3KScuu4M-z"
      },
      "source": [
        "# Creating maritak status\n",
        "\n",
        "marital_status = ['Married', 'Divorced', 'Single', 'Widowed', 'Separated']\n",
        "\n",
        "df['Marital_status'] = np.random.choice(marital_status, 100000, p=[0.6, 0.1, 0.1, 0.1, 0.1])"
      ],
      "execution_count": null,
      "outputs": []
    },
    {
      "cell_type": "code",
      "metadata": {
        "id": "yR0htrEK5Q4_"
      },
      "source": [
        "# Creating Principle Amount\n",
        "\n",
        "df['Principle_Amount'] = np.random.randint(300, 3000, 100000)\n",
        "df['Principle_Amount'] = df['Principle_Amount']*1000"
      ],
      "execution_count": null,
      "outputs": []
    },
    {
      "cell_type": "code",
      "metadata": {
        "id": "SBs4SKPy82D6"
      },
      "source": [
        "# Creating Interest rate\n",
        "\n",
        "df['Interest_rate'] = np.random.uniform(14, 24, 100000)\n",
        "df['Interest_rate'] = df['Interest_rate'].round(2)"
      ],
      "execution_count": null,
      "outputs": []
    },
    {
      "cell_type": "code",
      "metadata": {
        "id": "OxMOHzL99qAH"
      },
      "source": [
        "# Processing fee is 0.35% of the principle amount\n",
        "\n",
        "df['Processing_fee'] = df['Principle_Amount']*0.35/100"
      ],
      "execution_count": null,
      "outputs": []
    },
    {
      "cell_type": "code",
      "metadata": {
        "id": "pCAK23A3-ava"
      },
      "source": [
        "# Tenure\n",
        "tenure = [12, 24, 36, 48, 60]\n",
        "df['Tenure'] = np.random.choice(tenure, 100000)"
      ],
      "execution_count": null,
      "outputs": []
    },
    {
      "cell_type": "code",
      "metadata": {
        "id": "EB_NcqZWBbVH"
      },
      "source": [
        "# Creating EMI based on principle amount, interest rate & tenure\n",
        "\n",
        "df['EMI'] = ((df['Tenure']/12)*(df['Interest_rate'])+df['Principle_Amount'])/df['Tenure']\n",
        "df['EMI'] = df['EMI'].round(2)"
      ],
      "execution_count": null,
      "outputs": []
    },
    {
      "cell_type": "code",
      "metadata": {
        "id": "cPdEvW3ZF583"
      },
      "source": [
        "# creating due date\n",
        "\n",
        "date = [2, 10, 17, 24]\n",
        "dates = np.random.choice(date, 100000)\n",
        "year = []\n",
        "month= []\n",
        "\n",
        "for x in df['Date_of_dis']:\n",
        "  y = x.year\n",
        "  year.append(y)\n",
        "  m = x.month\n",
        "  month.append(m)\n",
        "\n",
        "duedate = pd.DataFrame(list(zip(year, month, dates)), columns=['year', 'month', 'day'])\n",
        "\n",
        "df['First_duedate'] = pd.to_datetime(duedate[['year', 'month', 'day']])"
      ],
      "execution_count": null,
      "outputs": []
    },
    {
      "cell_type": "code",
      "metadata": {
        "id": "mPc5Ifd6A6E5",
        "outputId": "c2267ab7-2fcd-414a-d710-5975721df6ff",
        "colab": {
          "base_uri": "https://localhost:8080/",
          "height": 34
        }
      },
      "source": [
        "for index, row in df.iterrows():\n",
        "  if row['Tenure'] == 12 and row['First_duedate'].year == 2018:\n",
        "    y = str(random.choices(range(12), weights=range(13, 1, -1))).strip('[]')\n",
        "    \n",
        "print(y)"
      ],
      "execution_count": null,
      "outputs": [
        {
          "output_type": "stream",
          "text": [
            "4\n"
          ],
          "name": "stdout"
        }
      ]
    },
    {
      "cell_type": "code",
      "metadata": {
        "id": "ajdNYnHV-56K"
      },
      "source": [
        "# Tenure remaining\n",
        "import random\n",
        "\n",
        "tenure_rem = []\n",
        "for index, row in df.iterrows():\n",
        "  if row['Tenure'] == 12 and row['First_duedate'].year == 2018:\n",
        "    y = str(random.choices(np.arange(0, 12), weights=range(12, 0, -1))).strip('[]')\n",
        "    tenure_rem.append(y)\n",
        "  elif row['Tenure'] == 12 and row['First_duedate'].year == 2019:\n",
        "    y = str(random.choices(np.arange(0, 12), weights=range(12, 0, -1))).strip('[]')\n",
        "    tenure_rem.append(y)\n",
        "  elif row['Tenure'] == 24 and row['First_duedate'].year == 2018:\n",
        "    y = str(random.choices(np.arange(0, 24), weights=range(24, 0, -1))).strip('[]')\n",
        "    tenure_rem.append(y)\n",
        "  elif row['Tenure'] == 24 and row['First_duedate'].year == 2019:\n",
        "    y = str(random.choices(np.arange(0, 24), weights=range(24, 0, -1))).strip('[]')\n",
        "    tenure_rem.append(y)\n",
        "  elif row['Tenure'] == 36 and row['First_duedate'].year == 2018:\n",
        "    y = str(random.choices(np.arange(0, 36), weights=range(36, 0, -1))).strip('[]')\n",
        "    tenure_rem.append(y)\n",
        "  elif row['Tenure'] == 36 and row['First_duedate'].year == 2019:\n",
        "    y = str(random.choices(np.arange(0, 36), weights=range(36, 0, -1))).strip('[]')\n",
        "    tenure_rem.append(y)\n",
        "  elif row['Tenure'] == 48 and row['First_duedate'].year == 2018:\n",
        "    y = str(random.choices(np.arange(0, 48), weights=range(48, 0, -1))).strip('[]')\n",
        "    tenure_rem.append(y)\n",
        "  elif row['Tenure'] == 48 and row['First_duedate'].year == 2019:\n",
        "    y = str(random.choices(np.arange(0, 48), weights=range(48, 0, -1))).strip('[]')\n",
        "    tenure_rem.append(y)\n",
        "  elif row['Tenure'] == 60 and row['First_duedate'].year == 2018:\n",
        "    y = str(random.choices(np.arange(0, 60), weights=range(60, 0, -1))).strip('[]')\n",
        "    tenure_rem.append(y)\n",
        "  elif row['Tenure'] == 60 and row['First_duedate'].year == 2019:\n",
        "    y = str(random.choices(np.arange(0, 60), weights=range(60, 0, -1))).strip('[]')\n",
        "    tenure_rem.append(y)\n",
        "\n",
        "df['Tenure_rem'] = tenure_rem\n",
        "df['Tenure_rem'] = df['Tenure_rem'].astype('int')"
      ],
      "execution_count": null,
      "outputs": []
    },
    {
      "cell_type": "code",
      "metadata": {
        "id": "-SJ7Oi37DdMD"
      },
      "source": [
        "# Principle amount remaining\n",
        "\n",
        "df['Principle_amt_rem'] = df['Principle_Amount'] - (((df['Tenure'] - df['Tenure_rem'])*df['EMI'])*60/100)\n",
        "df['Principle_amt_rem'] =df['Principle_amt_rem'].round(2)"
      ],
      "execution_count": null,
      "outputs": []
    },
    {
      "cell_type": "code",
      "metadata": {
        "id": "vxE_2-OSNiFb"
      },
      "source": [
        "# Finding last Due date\n",
        "from datetime import date\n",
        "from dateutil.relativedelta import relativedelta\n",
        "\n",
        "last_duedate = []\n",
        "for index, row in df.iterrows():\n",
        "  ld = row['First_duedate'] + relativedelta(months=+row['Tenure'])\n",
        "  last_duedate.append(ld)\n",
        "\n",
        "df['Last_duedate'] = last_duedate"
      ],
      "execution_count": null,
      "outputs": []
    },
    {
      "cell_type": "code",
      "metadata": {
        "id": "H0-46xflN7ky"
      },
      "source": [
        "# Next Duedate\n",
        "from datetime import datetime\n",
        "\n",
        "next_duedate = []\n",
        "\n",
        "for index, row in df.iterrows():\n",
        "  nd = row['First_duedate'] + relativedelta(months=+(row['Tenure'] - row['Tenure_rem']))\n",
        "  next_duedate.append(nd)\n",
        "\n",
        "df['Next_duedate'] = next_duedate"
      ],
      "execution_count": null,
      "outputs": []
    },
    {
      "cell_type": "code",
      "metadata": {
        "id": "ZNjpD1V6O3RJ"
      },
      "source": [
        "# Loan Status\n",
        "from datetime import datetime\n",
        "\n",
        "loanstatus = []\n",
        "\n",
        "for index, row in df.iterrows():\n",
        "  if row['Next_duedate'] >= datetime.now() and row['Next_duedate'] <= row['Last_duedate']:\n",
        "    loanstatus.append('Active')\n",
        "  elif row['Next_duedate'] < datetime.now() and row['Next_duedate'] < row['Last_duedate']:\n",
        "    if row['Next_duedate'] >= (datetime.now() - relativedelta(months=+3)) and row['Next_duedate'] < datetime.now():\n",
        "      loanstatus.append('Collection')\n",
        "    elif row['Next_duedate'] < (datetime.now() - relativedelta(months=+3)) and row['Next_duedate'] < datetime.now():\n",
        "      loanstatus.append('Sold')\n",
        "  elif row['Next_duedate'] <= datetime.now() and row['Next_duedate'] >= row['Last_duedate']:\n",
        "    loanstatus.append('Paidoff')\n",
        "  \n",
        "\n",
        "df['Loan_status'] = loanstatus"
      ],
      "execution_count": null,
      "outputs": []
    },
    {
      "cell_type": "code",
      "metadata": {
        "id": "mtHgttFqVbkt",
        "outputId": "490c0327-1583-43dd-abad-514e3cc6cdb1",
        "colab": {
          "base_uri": "https://localhost:8080/",
          "height": 101
        }
      },
      "source": [
        "df.Loan_status.value_counts()"
      ],
      "execution_count": null,
      "outputs": [
        {
          "output_type": "execute_result",
          "data": {
            "text/plain": [
              "Active        52048\n",
              "Sold          37964\n",
              "Collection     6515\n",
              "Paidoff        3473\n",
              "Name: Loan_status, dtype: int64"
            ]
          },
          "metadata": {
            "tags": []
          },
          "execution_count": 77
        }
      ]
    },
    {
      "cell_type": "code",
      "metadata": {
        "id": "O07n4kZPpwrI"
      },
      "source": [
        "# Loan Purpose \n",
        "\n",
        "purpose = ['Bill Payments', 'Emergency Expenses', 'Home Repairs', 'Refinance', 'Medical Expense', 'Personal Expenses']\n",
        "\n",
        "df['Loan_purpose'] = np.random.choice(purpose, 100000)"
      ],
      "execution_count": null,
      "outputs": []
    },
    {
      "cell_type": "code",
      "metadata": {
        "id": "cuZQGsGXw5-B",
        "outputId": "a37cbbe2-0338-43a4-8ae7-aac1b4230146",
        "colab": {
          "base_uri": "https://localhost:8080/",
          "height": 266
        }
      },
      "source": [
        "df.head()"
      ],
      "execution_count": null,
      "outputs": [
        {
          "output_type": "execute_result",
          "data": {
            "text/html": [
              "<div>\n",
              "<style scoped>\n",
              "    .dataframe tbody tr th:only-of-type {\n",
              "        vertical-align: middle;\n",
              "    }\n",
              "\n",
              "    .dataframe tbody tr th {\n",
              "        vertical-align: top;\n",
              "    }\n",
              "\n",
              "    .dataframe thead th {\n",
              "        text-align: right;\n",
              "    }\n",
              "</style>\n",
              "<table border=\"1\" class=\"dataframe\">\n",
              "  <thead>\n",
              "    <tr style=\"text-align: right;\">\n",
              "      <th></th>\n",
              "      <th>Date_of_dis</th>\n",
              "      <th>Customer_id</th>\n",
              "      <th>First_name</th>\n",
              "      <th>Last_name</th>\n",
              "      <th>Gender</th>\n",
              "      <th>Email</th>\n",
              "      <th>Phone</th>\n",
              "      <th>Age</th>\n",
              "      <th>Occupation</th>\n",
              "      <th>Income</th>\n",
              "      <th>Marital_status</th>\n",
              "      <th>Principle_Amount</th>\n",
              "      <th>Interest_rate</th>\n",
              "      <th>Processing_fee</th>\n",
              "      <th>Tenure</th>\n",
              "      <th>EMI</th>\n",
              "      <th>First_duedate</th>\n",
              "      <th>Tenure_rem</th>\n",
              "      <th>Principle_amt_rem</th>\n",
              "      <th>Last_duedate</th>\n",
              "      <th>Next_duedate</th>\n",
              "      <th>Loan_status</th>\n",
              "      <th>Loan_purpose</th>\n",
              "    </tr>\n",
              "  </thead>\n",
              "  <tbody>\n",
              "    <tr>\n",
              "      <th>0</th>\n",
              "      <td>2018-01-01</td>\n",
              "      <td>1000017</td>\n",
              "      <td>Pooja</td>\n",
              "      <td>Mukherjee</td>\n",
              "      <td>Male</td>\n",
              "      <td>pooja.mukherjee@dummyemail.com</td>\n",
              "      <td>7185513081</td>\n",
              "      <td>33</td>\n",
              "      <td>Veterinarian</td>\n",
              "      <td>1247665</td>\n",
              "      <td>Married</td>\n",
              "      <td>530000</td>\n",
              "      <td>20.65</td>\n",
              "      <td>1855.0</td>\n",
              "      <td>36</td>\n",
              "      <td>14723.94</td>\n",
              "      <td>2018-01-24</td>\n",
              "      <td>3</td>\n",
              "      <td>238465.99</td>\n",
              "      <td>2021-01-24</td>\n",
              "      <td>2020-10-24</td>\n",
              "      <td>Active</td>\n",
              "      <td>Home Repairs</td>\n",
              "    </tr>\n",
              "    <tr>\n",
              "      <th>1</th>\n",
              "      <td>2018-01-01</td>\n",
              "      <td>1000229</td>\n",
              "      <td>Manoj</td>\n",
              "      <td>Mukhopadhyay</td>\n",
              "      <td>Female</td>\n",
              "      <td>manoj.mukhopadhyay@dummyemail.com</td>\n",
              "      <td>9492354602</td>\n",
              "      <td>29</td>\n",
              "      <td>School counselor</td>\n",
              "      <td>569713</td>\n",
              "      <td>Married</td>\n",
              "      <td>378000</td>\n",
              "      <td>15.43</td>\n",
              "      <td>1323.0</td>\n",
              "      <td>60</td>\n",
              "      <td>6301.29</td>\n",
              "      <td>2018-01-10</td>\n",
              "      <td>10</td>\n",
              "      <td>188961.30</td>\n",
              "      <td>2023-01-10</td>\n",
              "      <td>2022-03-10</td>\n",
              "      <td>Active</td>\n",
              "      <td>Personal Expenses</td>\n",
              "    </tr>\n",
              "    <tr>\n",
              "      <th>2</th>\n",
              "      <td>2018-01-01</td>\n",
              "      <td>1000363</td>\n",
              "      <td>Shanti</td>\n",
              "      <td>Lalla</td>\n",
              "      <td>Male</td>\n",
              "      <td>shanti.lalla@dummyemail.com</td>\n",
              "      <td>8451269995</td>\n",
              "      <td>28</td>\n",
              "      <td>Army officer</td>\n",
              "      <td>1745340</td>\n",
              "      <td>Separated</td>\n",
              "      <td>2697000</td>\n",
              "      <td>23.10</td>\n",
              "      <td>9439.5</td>\n",
              "      <td>60</td>\n",
              "      <td>44951.92</td>\n",
              "      <td>2018-01-17</td>\n",
              "      <td>16</td>\n",
              "      <td>1510269.31</td>\n",
              "      <td>2023-01-17</td>\n",
              "      <td>2021-09-17</td>\n",
              "      <td>Active</td>\n",
              "      <td>Medical Expense</td>\n",
              "    </tr>\n",
              "    <tr>\n",
              "      <th>3</th>\n",
              "      <td>2018-01-01</td>\n",
              "      <td>1000403</td>\n",
              "      <td>Amit</td>\n",
              "      <td>Kaul</td>\n",
              "      <td>Female</td>\n",
              "      <td>amit.kaul@dummyemail.com</td>\n",
              "      <td>7654108419</td>\n",
              "      <td>30</td>\n",
              "      <td>Official</td>\n",
              "      <td>324640</td>\n",
              "      <td>Married</td>\n",
              "      <td>2357000</td>\n",
              "      <td>17.97</td>\n",
              "      <td>8249.5</td>\n",
              "      <td>36</td>\n",
              "      <td>65473.72</td>\n",
              "      <td>2018-01-10</td>\n",
              "      <td>11</td>\n",
              "      <td>1374894.20</td>\n",
              "      <td>2021-01-10</td>\n",
              "      <td>2020-02-10</td>\n",
              "      <td>Sold</td>\n",
              "      <td>Personal Expenses</td>\n",
              "    </tr>\n",
              "    <tr>\n",
              "      <th>4</th>\n",
              "      <td>2018-01-01</td>\n",
              "      <td>1000908</td>\n",
              "      <td>Smt.</td>\n",
              "      <td>Sehgal</td>\n",
              "      <td>Male</td>\n",
              "      <td>smt..sehgal@dummyemail.com</td>\n",
              "      <td>9426590647</td>\n",
              "      <td>51</td>\n",
              "      <td>Civil servant</td>\n",
              "      <td>359436</td>\n",
              "      <td>Divorced</td>\n",
              "      <td>1941000</td>\n",
              "      <td>19.28</td>\n",
              "      <td>6793.5</td>\n",
              "      <td>48</td>\n",
              "      <td>40439.11</td>\n",
              "      <td>2018-01-10</td>\n",
              "      <td>26</td>\n",
              "      <td>1407203.75</td>\n",
              "      <td>2022-01-10</td>\n",
              "      <td>2019-11-10</td>\n",
              "      <td>Sold</td>\n",
              "      <td>Refinance</td>\n",
              "    </tr>\n",
              "  </tbody>\n",
              "</table>\n",
              "</div>"
            ],
            "text/plain": [
              "  Date_of_dis  Customer_id  ... Loan_status       Loan_purpose\n",
              "0  2018-01-01      1000017  ...      Active       Home Repairs\n",
              "1  2018-01-01      1000229  ...      Active  Personal Expenses\n",
              "2  2018-01-01      1000363  ...      Active    Medical Expense\n",
              "3  2018-01-01      1000403  ...        Sold  Personal Expenses\n",
              "4  2018-01-01      1000908  ...        Sold          Refinance\n",
              "\n",
              "[5 rows x 23 columns]"
            ]
          },
          "metadata": {
            "tags": []
          },
          "execution_count": 79
        }
      ]
    },
    {
      "cell_type": "code",
      "metadata": {
        "id": "P_8Zn_PJJRWV",
        "outputId": "1b00b715-3982-4480-ab42-c18291c0d349",
        "colab": {
          "base_uri": "https://localhost:8080/",
          "height": 118
        }
      },
      "source": [
        "df.columns"
      ],
      "execution_count": null,
      "outputs": [
        {
          "output_type": "execute_result",
          "data": {
            "text/plain": [
              "Index(['Date_of_dis', 'Customer_id', 'First_name', 'Last_name', 'Gender',\n",
              "       'Email', 'Phone', 'Age', 'Occupation', 'Income', 'Marital_status',\n",
              "       'Principle_Amount', 'Interest_rate', 'Processing_fee', 'Tenure', 'EMI',\n",
              "       'First_duedate', 'Tenure_rem', 'Principle_amt_rem', 'Last_duedate',\n",
              "       'Next_duedate', 'Loan_status', 'Loan_purpose'],\n",
              "      dtype='object')"
            ]
          },
          "metadata": {
            "tags": []
          },
          "execution_count": 80
        }
      ]
    },
    {
      "cell_type": "code",
      "metadata": {
        "id": "0bQvmFoCpYqa"
      },
      "source": [
        "df.to_csv('Personal_loan_dataset.csv')"
      ],
      "execution_count": null,
      "outputs": []
    },
    {
      "cell_type": "code",
      "metadata": {
        "id": "2UpLpGgWpYmu"
      },
      "source": [
        ""
      ],
      "execution_count": null,
      "outputs": []
    },
    {
      "cell_type": "code",
      "metadata": {
        "id": "VCgGW4h2pYkx"
      },
      "source": [
        ""
      ],
      "execution_count": null,
      "outputs": []
    }
  ]
}