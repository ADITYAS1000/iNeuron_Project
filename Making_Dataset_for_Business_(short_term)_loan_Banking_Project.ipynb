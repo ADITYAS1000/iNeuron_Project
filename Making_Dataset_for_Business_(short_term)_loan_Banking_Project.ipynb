{
  "nbformat": 4,
  "nbformat_minor": 0,
  "metadata": {
    "colab": {
      "name": "Making Dataset for Business (short-term) loan Banking Project",
      "provenance": [],
      "collapsed_sections": [],
      "toc_visible": true,
      "mount_file_id": "1I36uWA7LGc_NiZlTKpVjLp98QqLmrWg3",
      "authorship_tag": "ABX9TyOcd++RwKBeWA48d01c6No5",
      "include_colab_link": true
    },
    "kernelspec": {
      "name": "python3",
      "display_name": "Python 3"
    }
  },
  "cells": [
    {
      "cell_type": "markdown",
      "metadata": {
        "id": "view-in-github",
        "colab_type": "text"
      },
      "source": [
        "<a href=\"https://colab.research.google.com/github/sanu1230/iNeuron_Project/blob/main/Making_Dataset_for_Business_(short_term)_loan_Banking_Project.ipynb\" target=\"_parent\"><img src=\"https://colab.research.google.com/assets/colab-badge.svg\" alt=\"Open In Colab\"/></a>"
      ]
    },
    {
      "cell_type": "markdown",
      "metadata": {
        "id": "bHcMMQWZLbkb"
      },
      "source": [
        "# Creating Dummy Dataset of bank for Personal Loan product"
      ]
    },
    {
      "cell_type": "markdown",
      "metadata": {
        "id": "aSnikLxyiIpv"
      },
      "source": [
        "## Attributes:\n",
        "\n",
        "- Date_of_dis => Date of loan disbursement\n",
        "- Customer_id\n",
        "- First_name\n",
        "- Last_name\n",
        "- Gender => (Male, Female)\n",
        "- Email\n",
        "- Phone\n",
        "- Age\n",
        "- Occupation => Customers occupation\n",
        "- Income\n",
        "- Marital_status => (Married, Single, Divorced, Widowed, Seperated)\n",
        "- Principle_Amount\n",
        "- Interest_rate\n",
        "- Processing_fee\n",
        "- Tenure => (12, 24, 36, 48, 60)months\n",
        "- EMI\n",
        "- First_duedate\n",
        "- Tenure_rem => Tenure Remaining\n",
        "- Principle_amt_rem => Principle amount remaining\n",
        "- Last_duedate\n",
        "- Next_duedate\n",
        "- Loan_status => (Active, Collection, Sold, Paidoff)\n",
        "- Loan_purpose => ('Bill Payments', 'Emergency Expenses', 'Home Repairs', 'Refinance', 'Medical Expense', 'Personal Expenses')"
      ]
    },
    {
      "cell_type": "code",
      "metadata": {
        "id": "KVkUf_grg4wS"
      },
      "source": [
        "import pandas as pd\n",
        "import numpy as np"
      ],
      "execution_count": null,
      "outputs": []
    },
    {
      "cell_type": "code",
      "metadata": {
        "id": "GQ4ANH-XhERZ",
        "outputId": "f3ad0bc2-46e6-4f6a-e172-07a208e27c4b",
        "colab": {
          "base_uri": "https://localhost:8080/",
          "height": 195
        }
      },
      "source": [
        "# Creating 1lac rows od 'Date of credit'\n",
        "\n",
        "date_range = pd.date_range(start='2018-01-01', end= '2019-12-31', freq='D')\n",
        "date = list(pd.Series(date_range))\n",
        "Date_of_cr = np.random.choice(date, 100000)\n",
        "df = pd.DataFrame(Date_of_cr, columns=['Date_of_cr'])\n",
        "df['Date_of_cr'] = sorted(df['Date_of_cr'])\n",
        "df.head()"
      ],
      "execution_count": null,
      "outputs": [
        {
          "output_type": "execute_result",
          "data": {
            "text/html": [
              "<div>\n",
              "<style scoped>\n",
              "    .dataframe tbody tr th:only-of-type {\n",
              "        vertical-align: middle;\n",
              "    }\n",
              "\n",
              "    .dataframe tbody tr th {\n",
              "        vertical-align: top;\n",
              "    }\n",
              "\n",
              "    .dataframe thead th {\n",
              "        text-align: right;\n",
              "    }\n",
              "</style>\n",
              "<table border=\"1\" class=\"dataframe\">\n",
              "  <thead>\n",
              "    <tr style=\"text-align: right;\">\n",
              "      <th></th>\n",
              "      <th>Date_of_cr</th>\n",
              "    </tr>\n",
              "  </thead>\n",
              "  <tbody>\n",
              "    <tr>\n",
              "      <th>0</th>\n",
              "      <td>2018-01-01</td>\n",
              "    </tr>\n",
              "    <tr>\n",
              "      <th>1</th>\n",
              "      <td>2018-01-01</td>\n",
              "    </tr>\n",
              "    <tr>\n",
              "      <th>2</th>\n",
              "      <td>2018-01-01</td>\n",
              "    </tr>\n",
              "    <tr>\n",
              "      <th>3</th>\n",
              "      <td>2018-01-01</td>\n",
              "    </tr>\n",
              "    <tr>\n",
              "      <th>4</th>\n",
              "      <td>2018-01-01</td>\n",
              "    </tr>\n",
              "  </tbody>\n",
              "</table>\n",
              "</div>"
            ],
            "text/plain": [
              "  Date_of_cr\n",
              "0 2018-01-01\n",
              "1 2018-01-01\n",
              "2 2018-01-01\n",
              "3 2018-01-01\n",
              "4 2018-01-01"
            ]
          },
          "metadata": {
            "tags": []
          },
          "execution_count": 2
        }
      ]
    },
    {
      "cell_type": "code",
      "metadata": {
        "id": "AHq-eS9aAryP",
        "outputId": "c6187578-6c03-4382-b683-f6cfed76766c",
        "colab": {
          "base_uri": "https://localhost:8080/"
        }
      },
      "source": [
        "df.shape"
      ],
      "execution_count": null,
      "outputs": [
        {
          "output_type": "execute_result",
          "data": {
            "text/plain": [
              "(100000, 1)"
            ]
          },
          "metadata": {
            "tags": []
          },
          "execution_count": 3
        }
      ]
    },
    {
      "cell_type": "code",
      "metadata": {
        "id": "1D9TOJiWAu2r",
        "outputId": "14e1c4af-4bfe-4982-e0a0-571eaadde054",
        "colab": {
          "base_uri": "https://localhost:8080/",
          "height": 195
        }
      },
      "source": [
        "# Creating Customer Id data\n",
        "import random\n",
        "\n",
        "df['Customer_id'] = sorted(random.sample(range(1000000, 9999999), len(df['Date_of_cr']))) \n",
        "df.head()"
      ],
      "execution_count": null,
      "outputs": [
        {
          "output_type": "execute_result",
          "data": {
            "text/html": [
              "<div>\n",
              "<style scoped>\n",
              "    .dataframe tbody tr th:only-of-type {\n",
              "        vertical-align: middle;\n",
              "    }\n",
              "\n",
              "    .dataframe tbody tr th {\n",
              "        vertical-align: top;\n",
              "    }\n",
              "\n",
              "    .dataframe thead th {\n",
              "        text-align: right;\n",
              "    }\n",
              "</style>\n",
              "<table border=\"1\" class=\"dataframe\">\n",
              "  <thead>\n",
              "    <tr style=\"text-align: right;\">\n",
              "      <th></th>\n",
              "      <th>Date_of_cr</th>\n",
              "      <th>Customer_id</th>\n",
              "    </tr>\n",
              "  </thead>\n",
              "  <tbody>\n",
              "    <tr>\n",
              "      <th>0</th>\n",
              "      <td>2018-01-01</td>\n",
              "      <td>1000104</td>\n",
              "    </tr>\n",
              "    <tr>\n",
              "      <th>1</th>\n",
              "      <td>2018-01-01</td>\n",
              "      <td>1000504</td>\n",
              "    </tr>\n",
              "    <tr>\n",
              "      <th>2</th>\n",
              "      <td>2018-01-01</td>\n",
              "      <td>1000505</td>\n",
              "    </tr>\n",
              "    <tr>\n",
              "      <th>3</th>\n",
              "      <td>2018-01-01</td>\n",
              "      <td>1000706</td>\n",
              "    </tr>\n",
              "    <tr>\n",
              "      <th>4</th>\n",
              "      <td>2018-01-01</td>\n",
              "      <td>1001102</td>\n",
              "    </tr>\n",
              "  </tbody>\n",
              "</table>\n",
              "</div>"
            ],
            "text/plain": [
              "  Date_of_cr  Customer_id\n",
              "0 2018-01-01      1000104\n",
              "1 2018-01-01      1000504\n",
              "2 2018-01-01      1000505\n",
              "3 2018-01-01      1000706\n",
              "4 2018-01-01      1001102"
            ]
          },
          "metadata": {
            "tags": []
          },
          "execution_count": 4
        }
      ]
    },
    {
      "cell_type": "code",
      "metadata": {
        "id": "7AvCpyAjj9cE"
      },
      "source": [
        "lastname = pd.read_csv('/content/drive/My Drive/Colab Notebooks/iNeuron Project/Indian-Last-Names.csv')\n",
        "\n",
        "\n",
        "# removing all missing data and non alpha data\n",
        "l_name=[]\n",
        "\n",
        "for x in lastname['Last_names']:\n",
        "  if type(x) == str:\n",
        "    l_name.append(x)\n",
        "\n",
        "# taking only the first word of the name\n",
        "last_name = []\n",
        "\n",
        "for x in l_name:\n",
        "  last_name.append(x.split()[0])\n"
      ],
      "execution_count": null,
      "outputs": []
    },
    {
      "cell_type": "code",
      "metadata": {
        "id": "GU_n517CcKPQ",
        "outputId": "d19f8a97-9aa4-4987-a3ef-1f305a9359df",
        "colab": {
          "base_uri": "https://localhost:8080/"
        }
      },
      "source": [
        "len(last_name)"
      ],
      "execution_count": null,
      "outputs": [
        {
          "output_type": "execute_result",
          "data": {
            "text/plain": [
              "564"
            ]
          },
          "metadata": {
            "tags": []
          },
          "execution_count": 7
        }
      ]
    },
    {
      "cell_type": "code",
      "metadata": {
        "id": "Eapv0QvuF-Qj"
      },
      "source": [
        "# Creating 1 lac names (50k male & 50k female names)\n",
        "\n",
        "malename = pd.read_csv('/content/drive/My Drive/Colab Notebooks/iNeuron Project/Indian-Male-Names.csv')\n",
        "# malename = malename.drop(['gender', 'race'], axis=1)\n",
        "\n",
        "femalename = pd.read_csv('/content/drive/My Drive/Colab Notebooks/iNeuron Project/Indian-Female-Names.csv')\n",
        "# femalename = femalename.drop(['gender', 'race'], axis=1)\n"
      ],
      "execution_count": null,
      "outputs": []
    },
    {
      "cell_type": "code",
      "metadata": {
        "id": "Wg0sX1mqt2gt",
        "outputId": "d5541365-722e-4e6c-9eee-156a033cd67d",
        "colab": {
          "base_uri": "https://localhost:8080/"
        }
      },
      "source": [
        "malename['name'] = malename['name'].astype('string') \n",
        "malename.info()"
      ],
      "execution_count": null,
      "outputs": [
        {
          "output_type": "stream",
          "text": [
            "<class 'pandas.core.frame.DataFrame'>\n",
            "RangeIndex: 14845 entries, 0 to 14844\n",
            "Data columns (total 3 columns):\n",
            " #   Column  Non-Null Count  Dtype \n",
            "---  ------  --------------  ----- \n",
            " 0   name    14821 non-null  string\n",
            " 1   gender  14845 non-null  object\n",
            " 2   race    14845 non-null  object\n",
            "dtypes: object(2), string(1)\n",
            "memory usage: 348.1+ KB\n"
          ],
          "name": "stdout"
        }
      ]
    },
    {
      "cell_type": "code",
      "metadata": {
        "id": "PfkChRVPesO9"
      },
      "source": [
        "# removing all missing data and non alpha data\n",
        "malefirstname=[]\n",
        "other = []\n",
        "\n",
        "for x in malename['name']:\n",
        "  if type(x) == str:\n",
        "    x = x.replace('@', '').split()[0]\n",
        "    if x.isalpha():\n",
        "      malefirstname.append(x)\n",
        "    else:\n",
        "      other.append(x)\n",
        "\n",
        "# -------------------------------------\n",
        "femalefirstname=[]\n",
        "\n",
        "for x in femalename['name']:\n",
        "  if type(x) == str:\n",
        "    x = x.replace('@', '').split()[0]\n",
        "    if x.isalpha():\n",
        "      femalefirstname.append(x)"
      ],
      "execution_count": null,
      "outputs": []
    },
    {
      "cell_type": "code",
      "metadata": {
        "id": "AUKop14rdlhV"
      },
      "source": [
        "malefirstname50k = np.random.choice(malefirstname, 50000)\n",
        "femalefirstname50k = np.random.choice(femalefirstname, 50000)"
      ],
      "execution_count": null,
      "outputs": []
    },
    {
      "cell_type": "code",
      "metadata": {
        "id": "V-YWdbpferyp",
        "outputId": "b6178328-b3af-4ac0-9d9c-1353c1bfe866",
        "colab": {
          "base_uri": "https://localhost:8080/"
        }
      },
      "source": [
        "mgender = []\n",
        "\n",
        "for x in range(50000):\n",
        "  mgender.append('Male')\n",
        "\n",
        "\n",
        "len(mgender)\n"
      ],
      "execution_count": null,
      "outputs": [
        {
          "output_type": "execute_result",
          "data": {
            "text/plain": [
              "50000"
            ]
          },
          "metadata": {
            "tags": []
          },
          "execution_count": 12
        }
      ]
    },
    {
      "cell_type": "code",
      "metadata": {
        "id": "uWlP6K-bf7hR",
        "outputId": "7be535da-b069-4a53-c664-9dd62a6ff7dc",
        "colab": {
          "base_uri": "https://localhost:8080/"
        }
      },
      "source": [
        "fgender = []\n",
        "\n",
        "for x in range(50000):\n",
        "  fgender.append('Female')\n",
        "\n",
        "\n",
        "len(fgender)"
      ],
      "execution_count": null,
      "outputs": [
        {
          "output_type": "execute_result",
          "data": {
            "text/plain": [
              "50000"
            ]
          },
          "metadata": {
            "tags": []
          },
          "execution_count": 13
        }
      ]
    },
    {
      "cell_type": "code",
      "metadata": {
        "id": "wJRiL8k6eRD7"
      },
      "source": [
        "Mnamedata = pd.DataFrame(list(zip(malefirstname50k, mgender)), columns=['First_name', 'Gender'])\n",
        "Fnamedata = pd.DataFrame(list(zip(femalefirstname50k, fgender)), columns=['First_name', 'Gender'])"
      ],
      "execution_count": null,
      "outputs": []
    },
    {
      "cell_type": "code",
      "metadata": {
        "id": "ec9SMn2chZai",
        "outputId": "1690d136-b76d-46a2-9fcc-f9ce0f68871a",
        "colab": {
          "base_uri": "https://localhost:8080/",
          "height": 343
        }
      },
      "source": [
        "bothname_genderdata = pd.concat([Mnamedata, Fnamedata], axis=0, ignore_index=True)\n",
        "bothname_genderdata = bothname_genderdata.apply(np.random.permutation, axis=0)   \n",
        "bothname_genderdata.head(10)"
      ],
      "execution_count": null,
      "outputs": [
        {
          "output_type": "execute_result",
          "data": {
            "text/html": [
              "<div>\n",
              "<style scoped>\n",
              "    .dataframe tbody tr th:only-of-type {\n",
              "        vertical-align: middle;\n",
              "    }\n",
              "\n",
              "    .dataframe tbody tr th {\n",
              "        vertical-align: top;\n",
              "    }\n",
              "\n",
              "    .dataframe thead th {\n",
              "        text-align: right;\n",
              "    }\n",
              "</style>\n",
              "<table border=\"1\" class=\"dataframe\">\n",
              "  <thead>\n",
              "    <tr style=\"text-align: right;\">\n",
              "      <th></th>\n",
              "      <th>First_name</th>\n",
              "      <th>Gender</th>\n",
              "    </tr>\n",
              "  </thead>\n",
              "  <tbody>\n",
              "    <tr>\n",
              "      <th>0</th>\n",
              "      <td>meenu</td>\n",
              "      <td>Female</td>\n",
              "    </tr>\n",
              "    <tr>\n",
              "      <th>1</th>\n",
              "      <td>anil</td>\n",
              "      <td>Female</td>\n",
              "    </tr>\n",
              "    <tr>\n",
              "      <th>2</th>\n",
              "      <td>jaspal</td>\n",
              "      <td>Male</td>\n",
              "    </tr>\n",
              "    <tr>\n",
              "      <th>3</th>\n",
              "      <td>aafrin</td>\n",
              "      <td>Male</td>\n",
              "    </tr>\n",
              "    <tr>\n",
              "      <th>4</th>\n",
              "      <td>jishan</td>\n",
              "      <td>Female</td>\n",
              "    </tr>\n",
              "    <tr>\n",
              "      <th>5</th>\n",
              "      <td>simran</td>\n",
              "      <td>Female</td>\n",
              "    </tr>\n",
              "    <tr>\n",
              "      <th>6</th>\n",
              "      <td>sayma</td>\n",
              "      <td>Male</td>\n",
              "    </tr>\n",
              "    <tr>\n",
              "      <th>7</th>\n",
              "      <td>chatar</td>\n",
              "      <td>Female</td>\n",
              "    </tr>\n",
              "    <tr>\n",
              "      <th>8</th>\n",
              "      <td>rajibul</td>\n",
              "      <td>Male</td>\n",
              "    </tr>\n",
              "    <tr>\n",
              "      <th>9</th>\n",
              "      <td>ajay</td>\n",
              "      <td>Male</td>\n",
              "    </tr>\n",
              "  </tbody>\n",
              "</table>\n",
              "</div>"
            ],
            "text/plain": [
              "  First_name  Gender\n",
              "0      meenu  Female\n",
              "1       anil  Female\n",
              "2     jaspal    Male\n",
              "3     aafrin    Male\n",
              "4     jishan  Female\n",
              "5     simran  Female\n",
              "6      sayma    Male\n",
              "7     chatar  Female\n",
              "8    rajibul    Male\n",
              "9       ajay    Male"
            ]
          },
          "metadata": {
            "tags": []
          },
          "execution_count": 15
        }
      ]
    },
    {
      "cell_type": "code",
      "metadata": {
        "id": "r4iH3I8AiYv2"
      },
      "source": [
        "df = pd.concat([df, bothname_genderdata], join='inner', axis=1)"
      ],
      "execution_count": null,
      "outputs": []
    },
    {
      "cell_type": "code",
      "metadata": {
        "id": "Hkk9BgLRjAyN",
        "outputId": "92cc3449-dba2-4a1b-c577-31fc236088db",
        "colab": {
          "base_uri": "https://localhost:8080/",
          "height": 195
        }
      },
      "source": [
        "df.head()"
      ],
      "execution_count": null,
      "outputs": [
        {
          "output_type": "execute_result",
          "data": {
            "text/html": [
              "<div>\n",
              "<style scoped>\n",
              "    .dataframe tbody tr th:only-of-type {\n",
              "        vertical-align: middle;\n",
              "    }\n",
              "\n",
              "    .dataframe tbody tr th {\n",
              "        vertical-align: top;\n",
              "    }\n",
              "\n",
              "    .dataframe thead th {\n",
              "        text-align: right;\n",
              "    }\n",
              "</style>\n",
              "<table border=\"1\" class=\"dataframe\">\n",
              "  <thead>\n",
              "    <tr style=\"text-align: right;\">\n",
              "      <th></th>\n",
              "      <th>Date_of_cr</th>\n",
              "      <th>Customer_id</th>\n",
              "      <th>First_name</th>\n",
              "      <th>Gender</th>\n",
              "    </tr>\n",
              "  </thead>\n",
              "  <tbody>\n",
              "    <tr>\n",
              "      <th>0</th>\n",
              "      <td>2018-01-01</td>\n",
              "      <td>1000104</td>\n",
              "      <td>meenu</td>\n",
              "      <td>Female</td>\n",
              "    </tr>\n",
              "    <tr>\n",
              "      <th>1</th>\n",
              "      <td>2018-01-01</td>\n",
              "      <td>1000504</td>\n",
              "      <td>anil</td>\n",
              "      <td>Female</td>\n",
              "    </tr>\n",
              "    <tr>\n",
              "      <th>2</th>\n",
              "      <td>2018-01-01</td>\n",
              "      <td>1000505</td>\n",
              "      <td>jaspal</td>\n",
              "      <td>Male</td>\n",
              "    </tr>\n",
              "    <tr>\n",
              "      <th>3</th>\n",
              "      <td>2018-01-01</td>\n",
              "      <td>1000706</td>\n",
              "      <td>aafrin</td>\n",
              "      <td>Male</td>\n",
              "    </tr>\n",
              "    <tr>\n",
              "      <th>4</th>\n",
              "      <td>2018-01-01</td>\n",
              "      <td>1001102</td>\n",
              "      <td>jishan</td>\n",
              "      <td>Female</td>\n",
              "    </tr>\n",
              "  </tbody>\n",
              "</table>\n",
              "</div>"
            ],
            "text/plain": [
              "  Date_of_cr  Customer_id First_name  Gender\n",
              "0 2018-01-01      1000104      meenu  Female\n",
              "1 2018-01-01      1000504       anil  Female\n",
              "2 2018-01-01      1000505     jaspal    Male\n",
              "3 2018-01-01      1000706     aafrin    Male\n",
              "4 2018-01-01      1001102     jishan  Female"
            ]
          },
          "metadata": {
            "tags": []
          },
          "execution_count": 17
        }
      ]
    },
    {
      "cell_type": "code",
      "metadata": {
        "id": "p3Ehaa9ysj_8"
      },
      "source": [
        "df['Last_name'] = np.random.choice(last_name, 100000)"
      ],
      "execution_count": null,
      "outputs": []
    },
    {
      "cell_type": "code",
      "metadata": {
        "id": "rgDLJ634tL3h"
      },
      "source": [
        "df['First_name'] = df.First_name.str.capitalize()\n",
        "df['Last_name'] = df.Last_name.str.capitalize()"
      ],
      "execution_count": null,
      "outputs": []
    },
    {
      "cell_type": "code",
      "metadata": {
        "id": "aiSEQ0H5ph22",
        "outputId": "7ee08142-331c-455b-edf9-8c5592c4a2cf",
        "colab": {
          "base_uri": "https://localhost:8080/",
          "height": 195
        }
      },
      "source": [
        "df = df[['Date_of_cr',\t'Customer_id',\t'First_name', 'Last_name', 'Gender']]\n",
        "df.head()"
      ],
      "execution_count": null,
      "outputs": [
        {
          "output_type": "execute_result",
          "data": {
            "text/html": [
              "<div>\n",
              "<style scoped>\n",
              "    .dataframe tbody tr th:only-of-type {\n",
              "        vertical-align: middle;\n",
              "    }\n",
              "\n",
              "    .dataframe tbody tr th {\n",
              "        vertical-align: top;\n",
              "    }\n",
              "\n",
              "    .dataframe thead th {\n",
              "        text-align: right;\n",
              "    }\n",
              "</style>\n",
              "<table border=\"1\" class=\"dataframe\">\n",
              "  <thead>\n",
              "    <tr style=\"text-align: right;\">\n",
              "      <th></th>\n",
              "      <th>Date_of_cr</th>\n",
              "      <th>Customer_id</th>\n",
              "      <th>First_name</th>\n",
              "      <th>Last_name</th>\n",
              "      <th>Gender</th>\n",
              "    </tr>\n",
              "  </thead>\n",
              "  <tbody>\n",
              "    <tr>\n",
              "      <th>0</th>\n",
              "      <td>2018-01-01</td>\n",
              "      <td>1000104</td>\n",
              "      <td>Meenu</td>\n",
              "      <td>Iyengar</td>\n",
              "      <td>Female</td>\n",
              "    </tr>\n",
              "    <tr>\n",
              "      <th>1</th>\n",
              "      <td>2018-01-01</td>\n",
              "      <td>1000504</td>\n",
              "      <td>Anil</td>\n",
              "      <td>Seth</td>\n",
              "      <td>Female</td>\n",
              "    </tr>\n",
              "    <tr>\n",
              "      <th>2</th>\n",
              "      <td>2018-01-01</td>\n",
              "      <td>1000505</td>\n",
              "      <td>Jaspal</td>\n",
              "      <td>Mistry</td>\n",
              "      <td>Male</td>\n",
              "    </tr>\n",
              "    <tr>\n",
              "      <th>3</th>\n",
              "      <td>2018-01-01</td>\n",
              "      <td>1000706</td>\n",
              "      <td>Aafrin</td>\n",
              "      <td>Ratti</td>\n",
              "      <td>Male</td>\n",
              "    </tr>\n",
              "    <tr>\n",
              "      <th>4</th>\n",
              "      <td>2018-01-01</td>\n",
              "      <td>1001102</td>\n",
              "      <td>Jishan</td>\n",
              "      <td>Sankaran</td>\n",
              "      <td>Female</td>\n",
              "    </tr>\n",
              "  </tbody>\n",
              "</table>\n",
              "</div>"
            ],
            "text/plain": [
              "  Date_of_cr  Customer_id First_name Last_name  Gender\n",
              "0 2018-01-01      1000104      Meenu   Iyengar  Female\n",
              "1 2018-01-01      1000504       Anil      Seth  Female\n",
              "2 2018-01-01      1000505     Jaspal    Mistry    Male\n",
              "3 2018-01-01      1000706     Aafrin     Ratti    Male\n",
              "4 2018-01-01      1001102     Jishan  Sankaran  Female"
            ]
          },
          "metadata": {
            "tags": []
          },
          "execution_count": 20
        }
      ]
    },
    {
      "cell_type": "code",
      "metadata": {
        "id": "fx7hrXioxEIN"
      },
      "source": [
        "# Creating Email\n",
        "df['Email'] = df.First_name.str.lower() + '.' + df.Last_name.str.lower() + '@dummyemail.com'"
      ],
      "execution_count": null,
      "outputs": []
    },
    {
      "cell_type": "code",
      "metadata": {
        "id": "K6DX5xg_xyIK"
      },
      "source": [
        "# Creating Phone #\n",
        "\n",
        "df['Phone'] = random.sample(range(7000000000, 9999999999), 100000)"
      ],
      "execution_count": null,
      "outputs": []
    },
    {
      "cell_type": "code",
      "metadata": {
        "id": "d5JLQ4E6y9v5"
      },
      "source": [
        "# Creating Age\n",
        "\n",
        "df['Age'] = np.random.choice(range(25, 55), 100000)"
      ],
      "execution_count": null,
      "outputs": []
    },
    {
      "cell_type": "code",
      "metadata": {
        "id": "Qx6E_l3nzdcs"
      },
      "source": [
        "# Creating Occupation\n",
        "\n",
        "occupation = ['Engineer', 'Teacher', 'Architect', 'Consultant', 'Scientist', 'Software Developer',\n",
        "              'Lawyer', 'Psychologist', 'Veterinarian', 'Civil Engineer', 'Surveyor', 'Secretary',\n",
        "              'Broker', 'Train_driver', 'Physician', 'Furniture Designer', 'Aviator', 'Estate agent',\n",
        "              'Domestic worker', 'Chef', 'Hotel Manager', 'Financial Analyst', 'Political scientist',\n",
        "              'Author', 'Biomedical Engineer', 'Official', 'Mathematician', 'Loan Officer', 'Machinist',\n",
        "              'Musician', 'Businessperson', 'Civil servant', 'Tailor', 'Politician', 'Designer', 'Industrial Engineer',\n",
        "              'Physiotherapist', 'Drafter', 'Rocket scientist', 'Graphic Designer', 'Health professional',\n",
        "              'Petroleum Engineer', 'Flight attendant', 'Historian', 'Mechanical engineer', 'Flight engineer',\n",
        "              'Professor', 'Army officer', 'Makeup Artist', 'School counselor', 'Computer operator', 'Govt.Service',\n",
        "              'Service', 'Self Employed']\n",
        "\n",
        "df['Occupation'] = np.random.choice(occupation, 100000)"
      ],
      "execution_count": null,
      "outputs": []
    },
    {
      "cell_type": "code",
      "metadata": {
        "id": "50S3gSZn2NeO"
      },
      "source": [
        "# Creating income column\n",
        "df['Income'] = np.random.randint(300000, 3000000, 100000)"
      ],
      "execution_count": null,
      "outputs": []
    },
    {
      "cell_type": "code",
      "metadata": {
        "id": "Zi3KScuu4M-z"
      },
      "source": [
        "# Creating maritak status\n",
        "\n",
        "marital_status = ['Married', 'Divorced', 'Single', 'Widowed', 'Separated']\n",
        "\n",
        "df['Marital_status'] = np.random.choice(marital_status, 100000, p=[0.6, 0.1, 0.1, 0.1, 0.1])"
      ],
      "execution_count": null,
      "outputs": []
    },
    {
      "cell_type": "code",
      "metadata": {
        "id": "yR0htrEK5Q4_"
      },
      "source": [
        "# Creating Principle Amount\n",
        "\n",
        "df['Principle_Amount'] = np.random.randint(300, 3000, 100000)\n",
        "df['Principle_Amount'] = df['Principle_Amount']*1000"
      ],
      "execution_count": null,
      "outputs": []
    },
    {
      "cell_type": "code",
      "metadata": {
        "id": "SBs4SKPy82D6"
      },
      "source": [
        "# Creating Interest rate\n",
        "\n",
        "df['Interest_rate'] = np.random.uniform(14, 24, 100000)\n",
        "df['Interest_rate'] = df['Interest_rate'].round(2)"
      ],
      "execution_count": null,
      "outputs": []
    },
    {
      "cell_type": "code",
      "metadata": {
        "id": "OxMOHzL99qAH"
      },
      "source": [
        "# Processing fee is 0.35% of the principle amount\n",
        "\n",
        "df['Processing_fee'] = df['Principle_Amount']*0.35/100"
      ],
      "execution_count": null,
      "outputs": []
    },
    {
      "cell_type": "code",
      "metadata": {
        "id": "pCAK23A3-ava"
      },
      "source": [
        "# Tenure\n",
        "tenure = [12, 24, 36, 48, 60]\n",
        "df['Tenure'] = np.random.choice(tenure, 100000)"
      ],
      "execution_count": null,
      "outputs": []
    },
    {
      "cell_type": "code",
      "metadata": {
        "id": "EB_NcqZWBbVH"
      },
      "source": [
        "# Creating EMI based on principle amount, interest rate & tenure\n",
        "\n",
        "df['EMI'] = ((df['Tenure']/12)*(df['Interest_rate'])+df['Principle_Amount'])/df['Tenure']\n",
        "df['EMI'] = df['EMI'].round(2)"
      ],
      "execution_count": null,
      "outputs": []
    },
    {
      "cell_type": "code",
      "metadata": {
        "id": "cPdEvW3ZF583"
      },
      "source": [
        "# creating due date\n",
        "\n",
        "date = [2, 10, 17, 24]\n",
        "dates = np.random.choice(date, 100000)\n",
        "year = []\n",
        "month= []\n",
        "\n",
        "for x in df['Date_of_cr']:\n",
        "  y = x.year\n",
        "  year.append(y)\n",
        "  m = x.month\n",
        "  month.append(m)\n",
        "\n",
        "duedate = pd.DataFrame(list(zip(year, month, dates)), columns=['year', 'month', 'day'])\n",
        "\n",
        "df['First_duedate'] = pd.to_datetime(duedate[['year', 'month', 'day']])"
      ],
      "execution_count": null,
      "outputs": []
    },
    {
      "cell_type": "code",
      "metadata": {
        "id": "mPc5Ifd6A6E5",
        "outputId": "0b1cd75f-48b6-499c-e632-bdf1d5b640a7",
        "colab": {
          "base_uri": "https://localhost:8080/"
        }
      },
      "source": [
        "for index, row in df.iterrows():\n",
        "  if row['Tenure'] == 12 and row['First_duedate'].year == 2018:\n",
        "    y = str(random.choices(range(12), weights=range(13, 1, -1))).strip('[]')\n",
        "    \n",
        "print(y)"
      ],
      "execution_count": null,
      "outputs": [
        {
          "output_type": "stream",
          "text": [
            "11\n"
          ],
          "name": "stdout"
        }
      ]
    },
    {
      "cell_type": "code",
      "metadata": {
        "id": "ajdNYnHV-56K"
      },
      "source": [
        "# Tenure remaining\n",
        "import random\n",
        "\n",
        "tenure_rem = []\n",
        "for index, row in df.iterrows():\n",
        "  if row['Tenure'] == 12 and row['First_duedate'].year == 2018:\n",
        "    y = str(random.choices(np.arange(0, 12), weights=range(12, 0, -1))).strip('[]')\n",
        "    tenure_rem.append(y)\n",
        "  elif row['Tenure'] == 12 and row['First_duedate'].year == 2019:\n",
        "    y = str(random.choices(np.arange(0, 12), weights=range(12, 0, -1))).strip('[]')\n",
        "    tenure_rem.append(y)\n",
        "  elif row['Tenure'] == 24 and row['First_duedate'].year == 2018:\n",
        "    y = str(random.choices(np.arange(0, 24), weights=range(24, 0, -1))).strip('[]')\n",
        "    tenure_rem.append(y)\n",
        "  elif row['Tenure'] == 24 and row['First_duedate'].year == 2019:\n",
        "    y = str(random.choices(np.arange(0, 24), weights=range(24, 0, -1))).strip('[]')\n",
        "    tenure_rem.append(y)\n",
        "  elif row['Tenure'] == 36 and row['First_duedate'].year == 2018:\n",
        "    y = str(random.choices(np.arange(0, 36), weights=range(36, 0, -1))).strip('[]')\n",
        "    tenure_rem.append(y)\n",
        "  elif row['Tenure'] == 36 and row['First_duedate'].year == 2019:\n",
        "    y = str(random.choices(np.arange(0, 36), weights=range(36, 0, -1))).strip('[]')\n",
        "    tenure_rem.append(y)\n",
        "  elif row['Tenure'] == 48 and row['First_duedate'].year == 2018:\n",
        "    y = str(random.choices(np.arange(0, 48), weights=range(48, 0, -1))).strip('[]')\n",
        "    tenure_rem.append(y)\n",
        "  elif row['Tenure'] == 48 and row['First_duedate'].year == 2019:\n",
        "    y = str(random.choices(np.arange(0, 48), weights=range(48, 0, -1))).strip('[]')\n",
        "    tenure_rem.append(y)\n",
        "  elif row['Tenure'] == 60 and row['First_duedate'].year == 2018:\n",
        "    y = str(random.choices(np.arange(0, 60), weights=range(60, 0, -1))).strip('[]')\n",
        "    tenure_rem.append(y)\n",
        "  elif row['Tenure'] == 60 and row['First_duedate'].year == 2019:\n",
        "    y = str(random.choices(np.arange(0, 60), weights=range(60, 0, -1))).strip('[]')\n",
        "    tenure_rem.append(y)\n",
        "\n",
        "df['Tenure_rem'] = tenure_rem\n",
        "df['Tenure_rem'] = df['Tenure_rem'].astype('int')"
      ],
      "execution_count": null,
      "outputs": []
    },
    {
      "cell_type": "code",
      "metadata": {
        "id": "-SJ7Oi37DdMD"
      },
      "source": [
        "# Principle amount remaining\n",
        "\n",
        "df['Principle_amt_rem'] = df['Principle_Amount'] - (((df['Tenure'] - df['Tenure_rem'])*df['EMI'])*60/100)\n",
        "df['Principle_amt_rem'] =df['Principle_amt_rem'].round(2)"
      ],
      "execution_count": null,
      "outputs": []
    },
    {
      "cell_type": "code",
      "metadata": {
        "id": "vxE_2-OSNiFb"
      },
      "source": [
        "# Finding last Due date\n",
        "from datetime import date\n",
        "from dateutil.relativedelta import relativedelta\n",
        "\n",
        "last_duedate = []\n",
        "for index, row in df.iterrows():\n",
        "  ld = row['First_duedate'] + relativedelta(months=+row['Tenure'])\n",
        "  last_duedate.append(ld)\n",
        "\n",
        "df['Last_duedate'] = last_duedate"
      ],
      "execution_count": null,
      "outputs": []
    },
    {
      "cell_type": "code",
      "metadata": {
        "id": "H0-46xflN7ky"
      },
      "source": [
        "# Next Duedate\n",
        "from datetime import datetime\n",
        "\n",
        "next_duedate = []\n",
        "\n",
        "for index, row in df.iterrows():\n",
        "  nd = row['First_duedate'] + relativedelta(months=+(row['Tenure'] - row['Tenure_rem']))\n",
        "  next_duedate.append(nd)\n",
        "\n",
        "df['Next_duedate'] = next_duedate"
      ],
      "execution_count": null,
      "outputs": []
    },
    {
      "cell_type": "code",
      "metadata": {
        "id": "ZNjpD1V6O3RJ"
      },
      "source": [
        "# Loan Status\n",
        "from datetime import datetime\n",
        "\n",
        "loanstatus = []\n",
        "\n",
        "for index, row in df.iterrows():\n",
        "  if row['Next_duedate'] >= datetime.now() and row['Next_duedate'] <= row['Last_duedate']:\n",
        "    loanstatus.append('Active')\n",
        "  elif row['Next_duedate'] < datetime.now() and row['Next_duedate'] < row['Last_duedate']:\n",
        "    if row['Next_duedate'] >= (datetime.now() - relativedelta(months=+3)) and row['Next_duedate'] < datetime.now():\n",
        "      loanstatus.append('Collection')\n",
        "    elif row['Next_duedate'] < (datetime.now() - relativedelta(months=+3)) and row['Next_duedate'] < datetime.now():\n",
        "      loanstatus.append('Sold')\n",
        "  elif row['Next_duedate'] <= datetime.now() and row['Next_duedate'] >= row['Last_duedate']:\n",
        "    loanstatus.append('Paidoff')\n",
        "  \n",
        "\n",
        "df['Loan_status'] = loanstatus"
      ],
      "execution_count": null,
      "outputs": []
    },
    {
      "cell_type": "code",
      "metadata": {
        "id": "mtHgttFqVbkt",
        "outputId": "39584335-6002-4818-eca9-dd51d20fadf2",
        "colab": {
          "base_uri": "https://localhost:8080/"
        }
      },
      "source": [
        "df.Loan_status.value_counts()"
      ],
      "execution_count": null,
      "outputs": [
        {
          "output_type": "execute_result",
          "data": {
            "text/plain": [
              "Active        50135\n",
              "Sold          39741\n",
              "Collection     6533\n",
              "Paidoff        3591\n",
              "Name: Loan_status, dtype: int64"
            ]
          },
          "metadata": {
            "tags": []
          },
          "execution_count": 39
        }
      ]
    },
    {
      "cell_type": "code",
      "metadata": {
        "id": "O07n4kZPpwrI"
      },
      "source": [
        "# Loan Purpose \n",
        "\n",
        "purpose = ['Bill Payments', 'Emergency Expenses', 'Home Repairs', 'Refinance', 'Medical Expense', 'Personal Expenses']\n",
        "\n",
        "df['Loan_purpose'] = np.random.choice(purpose, 100000)"
      ],
      "execution_count": null,
      "outputs": []
    },
    {
      "cell_type": "code",
      "metadata": {
        "id": "cuZQGsGXw5-B",
        "outputId": "79042839-8401-4758-959e-ad279917e27d",
        "colab": {
          "base_uri": "https://localhost:8080/",
          "height": 249
        }
      },
      "source": [
        "df.head()"
      ],
      "execution_count": null,
      "outputs": [
        {
          "output_type": "execute_result",
          "data": {
            "text/html": [
              "<div>\n",
              "<style scoped>\n",
              "    .dataframe tbody tr th:only-of-type {\n",
              "        vertical-align: middle;\n",
              "    }\n",
              "\n",
              "    .dataframe tbody tr th {\n",
              "        vertical-align: top;\n",
              "    }\n",
              "\n",
              "    .dataframe thead th {\n",
              "        text-align: right;\n",
              "    }\n",
              "</style>\n",
              "<table border=\"1\" class=\"dataframe\">\n",
              "  <thead>\n",
              "    <tr style=\"text-align: right;\">\n",
              "      <th></th>\n",
              "      <th>Date_of_cr</th>\n",
              "      <th>Customer_id</th>\n",
              "      <th>First_name</th>\n",
              "      <th>Last_name</th>\n",
              "      <th>Gender</th>\n",
              "      <th>Email</th>\n",
              "      <th>Phone</th>\n",
              "      <th>Age</th>\n",
              "      <th>Occupation</th>\n",
              "      <th>Income</th>\n",
              "      <th>Marital_status</th>\n",
              "      <th>Principle_Amount</th>\n",
              "      <th>Interest_rate</th>\n",
              "      <th>Processing_fee</th>\n",
              "      <th>Tenure</th>\n",
              "      <th>EMI</th>\n",
              "      <th>First_duedate</th>\n",
              "      <th>Tenure_rem</th>\n",
              "      <th>Principle_amt_rem</th>\n",
              "      <th>Last_duedate</th>\n",
              "      <th>Next_duedate</th>\n",
              "      <th>Loan_status</th>\n",
              "      <th>Loan_purpose</th>\n",
              "    </tr>\n",
              "  </thead>\n",
              "  <tbody>\n",
              "    <tr>\n",
              "      <th>0</th>\n",
              "      <td>2018-01-01</td>\n",
              "      <td>1000104</td>\n",
              "      <td>Meenu</td>\n",
              "      <td>Iyengar</td>\n",
              "      <td>Female</td>\n",
              "      <td>meenu.iyengar@dummyemail.com</td>\n",
              "      <td>7560124515</td>\n",
              "      <td>38</td>\n",
              "      <td>Aviator</td>\n",
              "      <td>1350273</td>\n",
              "      <td>Married</td>\n",
              "      <td>1967000</td>\n",
              "      <td>19.39</td>\n",
              "      <td>6884.5</td>\n",
              "      <td>60</td>\n",
              "      <td>32784.95</td>\n",
              "      <td>2018-01-24</td>\n",
              "      <td>14</td>\n",
              "      <td>1062135.38</td>\n",
              "      <td>2023-01-24</td>\n",
              "      <td>2021-11-24</td>\n",
              "      <td>Active</td>\n",
              "      <td>Refinance</td>\n",
              "    </tr>\n",
              "    <tr>\n",
              "      <th>1</th>\n",
              "      <td>2018-01-01</td>\n",
              "      <td>1000504</td>\n",
              "      <td>Anil</td>\n",
              "      <td>Seth</td>\n",
              "      <td>Female</td>\n",
              "      <td>anil.seth@dummyemail.com</td>\n",
              "      <td>8833405390</td>\n",
              "      <td>45</td>\n",
              "      <td>Surveyor</td>\n",
              "      <td>2617660</td>\n",
              "      <td>Single</td>\n",
              "      <td>1123000</td>\n",
              "      <td>14.16</td>\n",
              "      <td>3930.5</td>\n",
              "      <td>60</td>\n",
              "      <td>18717.85</td>\n",
              "      <td>2018-01-17</td>\n",
              "      <td>35</td>\n",
              "      <td>842232.25</td>\n",
              "      <td>2023-01-17</td>\n",
              "      <td>2020-02-17</td>\n",
              "      <td>Sold</td>\n",
              "      <td>Medical Expense</td>\n",
              "    </tr>\n",
              "    <tr>\n",
              "      <th>2</th>\n",
              "      <td>2018-01-01</td>\n",
              "      <td>1000505</td>\n",
              "      <td>Jaspal</td>\n",
              "      <td>Mistry</td>\n",
              "      <td>Male</td>\n",
              "      <td>jaspal.mistry@dummyemail.com</td>\n",
              "      <td>9081744390</td>\n",
              "      <td>45</td>\n",
              "      <td>Broker</td>\n",
              "      <td>932409</td>\n",
              "      <td>Single</td>\n",
              "      <td>1417000</td>\n",
              "      <td>17.72</td>\n",
              "      <td>4959.5</td>\n",
              "      <td>48</td>\n",
              "      <td>29522.31</td>\n",
              "      <td>2018-01-10</td>\n",
              "      <td>0</td>\n",
              "      <td>566757.47</td>\n",
              "      <td>2022-01-10</td>\n",
              "      <td>2022-01-10</td>\n",
              "      <td>Active</td>\n",
              "      <td>Medical Expense</td>\n",
              "    </tr>\n",
              "    <tr>\n",
              "      <th>3</th>\n",
              "      <td>2018-01-01</td>\n",
              "      <td>1000706</td>\n",
              "      <td>Aafrin</td>\n",
              "      <td>Ratti</td>\n",
              "      <td>Male</td>\n",
              "      <td>aafrin.ratti@dummyemail.com</td>\n",
              "      <td>7415831444</td>\n",
              "      <td>25</td>\n",
              "      <td>Musician</td>\n",
              "      <td>2526015</td>\n",
              "      <td>Single</td>\n",
              "      <td>2026000</td>\n",
              "      <td>19.83</td>\n",
              "      <td>7091.0</td>\n",
              "      <td>48</td>\n",
              "      <td>42209.99</td>\n",
              "      <td>2018-01-02</td>\n",
              "      <td>8</td>\n",
              "      <td>1012960.24</td>\n",
              "      <td>2022-01-02</td>\n",
              "      <td>2021-05-02</td>\n",
              "      <td>Active</td>\n",
              "      <td>Refinance</td>\n",
              "    </tr>\n",
              "    <tr>\n",
              "      <th>4</th>\n",
              "      <td>2018-01-01</td>\n",
              "      <td>1001102</td>\n",
              "      <td>Jishan</td>\n",
              "      <td>Sankaran</td>\n",
              "      <td>Female</td>\n",
              "      <td>jishan.sankaran@dummyemail.com</td>\n",
              "      <td>7544776464</td>\n",
              "      <td>53</td>\n",
              "      <td>Govt.Service</td>\n",
              "      <td>883634</td>\n",
              "      <td>Married</td>\n",
              "      <td>1739000</td>\n",
              "      <td>19.05</td>\n",
              "      <td>6086.5</td>\n",
              "      <td>48</td>\n",
              "      <td>36230.75</td>\n",
              "      <td>2018-01-02</td>\n",
              "      <td>17</td>\n",
              "      <td>1065108.05</td>\n",
              "      <td>2022-01-02</td>\n",
              "      <td>2020-08-02</td>\n",
              "      <td>Sold</td>\n",
              "      <td>Home Repairs</td>\n",
              "    </tr>\n",
              "  </tbody>\n",
              "</table>\n",
              "</div>"
            ],
            "text/plain": [
              "  Date_of_cr  Customer_id First_name  ... Next_duedate Loan_status     Loan_purpose\n",
              "0 2018-01-01      1000104      Meenu  ...   2021-11-24      Active        Refinance\n",
              "1 2018-01-01      1000504       Anil  ...   2020-02-17        Sold  Medical Expense\n",
              "2 2018-01-01      1000505     Jaspal  ...   2022-01-10      Active  Medical Expense\n",
              "3 2018-01-01      1000706     Aafrin  ...   2021-05-02      Active        Refinance\n",
              "4 2018-01-01      1001102     Jishan  ...   2020-08-02        Sold     Home Repairs\n",
              "\n",
              "[5 rows x 23 columns]"
            ]
          },
          "metadata": {
            "tags": []
          },
          "execution_count": 41
        }
      ]
    },
    {
      "cell_type": "code",
      "metadata": {
        "id": "P_8Zn_PJJRWV"
      },
      "source": [
        "df.columns = ['Date_of_cr', 'Customer_id', 'First_name', 'Last_name', 'Gender',\n",
        "       'Email', 'Phone', 'Age', 'Occupation', 'Income', 'Marital_status',\n",
        "       'Principle_Amount', 'Interest_rate', 'Processing_fee', 'Tenure', 'EMI',\n",
        "       'First_duedate', 'Tenure_rem', 'Principle_amt_rem', 'Last_duedate',\n",
        "       'Next_duedate', 'Loan_status', 'Loan_purpose']"
      ],
      "execution_count": null,
      "outputs": []
    },
    {
      "cell_type": "code",
      "metadata": {
        "id": "gNFqDgsw0t1O",
        "outputId": "828231ed-4001-4edc-aec5-6b5a6c1cb18e",
        "colab": {
          "base_uri": "https://localhost:8080/",
          "height": 249
        }
      },
      "source": [
        "df.head()"
      ],
      "execution_count": null,
      "outputs": [
        {
          "output_type": "execute_result",
          "data": {
            "text/html": [
              "<div>\n",
              "<style scoped>\n",
              "    .dataframe tbody tr th:only-of-type {\n",
              "        vertical-align: middle;\n",
              "    }\n",
              "\n",
              "    .dataframe tbody tr th {\n",
              "        vertical-align: top;\n",
              "    }\n",
              "\n",
              "    .dataframe thead th {\n",
              "        text-align: right;\n",
              "    }\n",
              "</style>\n",
              "<table border=\"1\" class=\"dataframe\">\n",
              "  <thead>\n",
              "    <tr style=\"text-align: right;\">\n",
              "      <th></th>\n",
              "      <th>Date_of_cr</th>\n",
              "      <th>Customer_id</th>\n",
              "      <th>First_name</th>\n",
              "      <th>Last_name</th>\n",
              "      <th>Gender</th>\n",
              "      <th>Email</th>\n",
              "      <th>Phone</th>\n",
              "      <th>Age</th>\n",
              "      <th>Occupation</th>\n",
              "      <th>Income</th>\n",
              "      <th>Marital_status</th>\n",
              "      <th>Principle_Amount</th>\n",
              "      <th>Interest_rate</th>\n",
              "      <th>Processing_fee</th>\n",
              "      <th>Tenure</th>\n",
              "      <th>EMI</th>\n",
              "      <th>First_duedate</th>\n",
              "      <th>Tenure_rem</th>\n",
              "      <th>Principle_amt_rem</th>\n",
              "      <th>Last_duedate</th>\n",
              "      <th>Next_duedate</th>\n",
              "      <th>Loan_status</th>\n",
              "      <th>Loan_purpose</th>\n",
              "    </tr>\n",
              "  </thead>\n",
              "  <tbody>\n",
              "    <tr>\n",
              "      <th>0</th>\n",
              "      <td>2018-01-01</td>\n",
              "      <td>1000104</td>\n",
              "      <td>Meenu</td>\n",
              "      <td>Iyengar</td>\n",
              "      <td>Female</td>\n",
              "      <td>meenu.iyengar@dummyemail.com</td>\n",
              "      <td>7560124515</td>\n",
              "      <td>38</td>\n",
              "      <td>Aviator</td>\n",
              "      <td>1350273</td>\n",
              "      <td>Married</td>\n",
              "      <td>1967000</td>\n",
              "      <td>19.39</td>\n",
              "      <td>6884.5</td>\n",
              "      <td>60</td>\n",
              "      <td>32784.95</td>\n",
              "      <td>2018-01-24</td>\n",
              "      <td>14</td>\n",
              "      <td>1062135.38</td>\n",
              "      <td>2023-01-24</td>\n",
              "      <td>2021-11-24</td>\n",
              "      <td>Active</td>\n",
              "      <td>Refinance</td>\n",
              "    </tr>\n",
              "    <tr>\n",
              "      <th>1</th>\n",
              "      <td>2018-01-01</td>\n",
              "      <td>1000504</td>\n",
              "      <td>Anil</td>\n",
              "      <td>Seth</td>\n",
              "      <td>Female</td>\n",
              "      <td>anil.seth@dummyemail.com</td>\n",
              "      <td>8833405390</td>\n",
              "      <td>45</td>\n",
              "      <td>Surveyor</td>\n",
              "      <td>2617660</td>\n",
              "      <td>Single</td>\n",
              "      <td>1123000</td>\n",
              "      <td>14.16</td>\n",
              "      <td>3930.5</td>\n",
              "      <td>60</td>\n",
              "      <td>18717.85</td>\n",
              "      <td>2018-01-17</td>\n",
              "      <td>35</td>\n",
              "      <td>842232.25</td>\n",
              "      <td>2023-01-17</td>\n",
              "      <td>2020-02-17</td>\n",
              "      <td>Sold</td>\n",
              "      <td>Medical Expense</td>\n",
              "    </tr>\n",
              "    <tr>\n",
              "      <th>2</th>\n",
              "      <td>2018-01-01</td>\n",
              "      <td>1000505</td>\n",
              "      <td>Jaspal</td>\n",
              "      <td>Mistry</td>\n",
              "      <td>Male</td>\n",
              "      <td>jaspal.mistry@dummyemail.com</td>\n",
              "      <td>9081744390</td>\n",
              "      <td>45</td>\n",
              "      <td>Broker</td>\n",
              "      <td>932409</td>\n",
              "      <td>Single</td>\n",
              "      <td>1417000</td>\n",
              "      <td>17.72</td>\n",
              "      <td>4959.5</td>\n",
              "      <td>48</td>\n",
              "      <td>29522.31</td>\n",
              "      <td>2018-01-10</td>\n",
              "      <td>0</td>\n",
              "      <td>566757.47</td>\n",
              "      <td>2022-01-10</td>\n",
              "      <td>2022-01-10</td>\n",
              "      <td>Active</td>\n",
              "      <td>Medical Expense</td>\n",
              "    </tr>\n",
              "    <tr>\n",
              "      <th>3</th>\n",
              "      <td>2018-01-01</td>\n",
              "      <td>1000706</td>\n",
              "      <td>Aafrin</td>\n",
              "      <td>Ratti</td>\n",
              "      <td>Male</td>\n",
              "      <td>aafrin.ratti@dummyemail.com</td>\n",
              "      <td>7415831444</td>\n",
              "      <td>25</td>\n",
              "      <td>Musician</td>\n",
              "      <td>2526015</td>\n",
              "      <td>Single</td>\n",
              "      <td>2026000</td>\n",
              "      <td>19.83</td>\n",
              "      <td>7091.0</td>\n",
              "      <td>48</td>\n",
              "      <td>42209.99</td>\n",
              "      <td>2018-01-02</td>\n",
              "      <td>8</td>\n",
              "      <td>1012960.24</td>\n",
              "      <td>2022-01-02</td>\n",
              "      <td>2021-05-02</td>\n",
              "      <td>Active</td>\n",
              "      <td>Refinance</td>\n",
              "    </tr>\n",
              "    <tr>\n",
              "      <th>4</th>\n",
              "      <td>2018-01-01</td>\n",
              "      <td>1001102</td>\n",
              "      <td>Jishan</td>\n",
              "      <td>Sankaran</td>\n",
              "      <td>Female</td>\n",
              "      <td>jishan.sankaran@dummyemail.com</td>\n",
              "      <td>7544776464</td>\n",
              "      <td>53</td>\n",
              "      <td>Govt.Service</td>\n",
              "      <td>883634</td>\n",
              "      <td>Married</td>\n",
              "      <td>1739000</td>\n",
              "      <td>19.05</td>\n",
              "      <td>6086.5</td>\n",
              "      <td>48</td>\n",
              "      <td>36230.75</td>\n",
              "      <td>2018-01-02</td>\n",
              "      <td>17</td>\n",
              "      <td>1065108.05</td>\n",
              "      <td>2022-01-02</td>\n",
              "      <td>2020-08-02</td>\n",
              "      <td>Sold</td>\n",
              "      <td>Home Repairs</td>\n",
              "    </tr>\n",
              "  </tbody>\n",
              "</table>\n",
              "</div>"
            ],
            "text/plain": [
              "  Date_of_cr  Customer_id First_name  ... Next_duedate Loan_status     Loan_purpose\n",
              "0 2018-01-01      1000104      Meenu  ...   2021-11-24      Active        Refinance\n",
              "1 2018-01-01      1000504       Anil  ...   2020-02-17        Sold  Medical Expense\n",
              "2 2018-01-01      1000505     Jaspal  ...   2022-01-10      Active  Medical Expense\n",
              "3 2018-01-01      1000706     Aafrin  ...   2021-05-02      Active        Refinance\n",
              "4 2018-01-01      1001102     Jishan  ...   2020-08-02        Sold     Home Repairs\n",
              "\n",
              "[5 rows x 23 columns]"
            ]
          },
          "metadata": {
            "tags": []
          },
          "execution_count": 43
        }
      ]
    },
    {
      "cell_type": "code",
      "metadata": {
        "id": "0bQvmFoCpYqa"
      },
      "source": [
        "df.to_csv('Personal_loan_dataset.csv')"
      ],
      "execution_count": null,
      "outputs": []
    },
    {
      "cell_type": "code",
      "metadata": {
        "id": "2UpLpGgWpYmu"
      },
      "source": [
        ""
      ],
      "execution_count": null,
      "outputs": []
    },
    {
      "cell_type": "code",
      "metadata": {
        "id": "VCgGW4h2pYkx"
      },
      "source": [
        ""
      ],
      "execution_count": null,
      "outputs": []
    }
  ]
}